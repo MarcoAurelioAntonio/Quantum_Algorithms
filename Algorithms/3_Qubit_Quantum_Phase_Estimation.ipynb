{
 "cells": [
  {
   "cell_type": "markdown",
   "metadata": {},
   "source": [
    "## Quantum Phase Estimation (QPS)\n",
    "\n",
    "![image.png](https://raw.githubusercontent.com/Qiskit/textbook/aebdd2bc86ddb7a79dd8441d52c839d312ffafbb/notebooks/ch-algorithms/images/qpe_tex_qz.png)\n",
    "\n",
    "- Akwgnolegement\n",
    "\n",
    "    This module's circuit was extracted from a [Qiskit Repositorie.](https://github.com/Qiskit/textbook/blob/main/notebooks/ch-algorithms/quantum-phase-estimation.ipynb)\n"
   ]
  },
  {
   "cell_type": "code",
   "execution_count": null,
   "metadata": {},
   "outputs": [],
   "source": [
    "\n",
    "from qiskit import QuantumCircuit, ClassicalRegister, QuantumRegister\n",
    "import math\n",
    "from qiskit.circuit.library import QFT\n",
    "\n",
    "# importing the style for the circuit from local *.py file.\n",
    "import sys\n",
    "sys.path.append('C:/Users/Gustavo_Porcilio/ALGORITHMS/Doc_help')\n",
    "from circuit_style import style\n",
    "\n",
    "qpe = QuantumCircuit(4, 3)\n",
    "\n",
    "# H-Gates to control qubits:\n",
    "for qubit in range(3):\n",
    "    qpe.h(qubit)\n",
    "\n",
    "# Eigenstate |psi>:\n",
    "qpe.x(3)\n",
    "\n",
    "# Controlled-U angles (theta) for qubits in descending order:\n",
    "angle = 2*math.pi/3\n",
    "\n",
    "for control_qubit in range(3):\n",
    "    qpe.cu(0, angle, 0, 0, control_qubit, 3);\n",
    "    angle *= 2\n",
    "\n",
    "qpe.append(QFT(3, inverse=True), range(3))\n",
    "\n",
    "for n in range(3):\n",
    "    qpe.measure(n,n)\n",
    "\n",
    "qpe.draw(style=style, output=\"mpl\")"
   ]
  },
  {
   "cell_type": "code",
   "execution_count": null,
   "metadata": {},
   "outputs": [],
   "source": [
    "# Run a simulation with Sampler\n",
    "from qiskit.visualization import plot_histogram\n",
    "from qiskit.primitives import Sampler\n",
    "\n",
    "shots = 4096\n",
    "\n",
    "# ***With a short line of code***\n",
    "# Sampler().run(qc).result().quasi_dists[0]\n",
    "sampler = Sampler()\n",
    "job = sampler.run(qpe, shots=shots)\n",
    "\n",
    "# Get the result\n",
    "result = job.result()\n",
    "print(result)\n",
    "print(\"----------------------------------------------------------------\")\n",
    "probabilities = result.quasi_dists[0]\n",
    "\n",
    "\n",
    "# Calculate the counts for each result\n",
    "counts = {key: round(value * shots) for key, value in probabilities.items()}\n",
    "\n",
    "print(print(\"Total Shots\", sum(counts.values()), \", Counts >>>\", counts))\n",
    "\n",
    "\n",
    "# Calculate the counts for each result\n",
    "counts = {key: round(value * shots) for key, value in probabilities.items()}\n",
    "\n",
    "print(probabilities)\n",
    "print(\"----------------------------------------------------------------\")\n",
    "\n",
    "# Convert keys from decimal to binary\n",
    "binary_key_counts = {format(key, '03b'): value for key, value in probabilities.items()}\n",
    "\n",
    "print(\"Binary Counts >>>\", binary_key_counts)\n",
    "\n",
    "# Plot the results\n",
    "plot_histogram(binary_key_counts, title=\"Quantum Phase Estimation\")"
   ]
  },
  {
   "cell_type": "code",
   "execution_count": null,
   "metadata": {},
   "outputs": [],
   "source": [
    "from qiskit_ibm_runtime import QiskitRuntimeService\n",
    "from dotenv import load_dotenv\n",
    "import os\n",
    "\n",
    "# Load the .env file\n",
    "load_dotenv()\n",
    "\n",
    "# Save the API token\n",
    "MY_API_TOKEN = os.getenv(\"API_TOKEN\")\n",
    "QiskitRuntimeService.save_account(channel=\"ibm_quantum\", token=MY_API_TOKEN, overwrite=True)\n",
    "\n",
    "service = QiskitRuntimeService()\n",
    "\n",
    "# Get the provider\n",
    "backend = service.least_busy(simulator=False)\n",
    "backend\n",
    "backend.status()"
   ]
  },
  {
   "cell_type": "code",
   "execution_count": null,
   "metadata": {},
   "outputs": [],
   "source": [
    "backend.num_qubits"
   ]
  },
  {
   "cell_type": "code",
   "execution_count": null,
   "metadata": {},
   "outputs": [],
   "source": [
    "from qiskit.transpiler.preset_passmanagers import generate_preset_pass_manager\n",
    "\n",
    "pm = generate_preset_pass_manager(optimization_level=1, backend=backend)\n",
    "isa_circuit = pm.run(qpe)\n",
    "\n",
    "from qiskit_ibm_runtime import SamplerV2 as Sampler\n",
    " \n",
    "sampler = Sampler(backend=backend)"
   ]
  },
  {
   "cell_type": "code",
   "execution_count": null,
   "metadata": {},
   "outputs": [],
   "source": [
    "# Run the circuit on real hardware.\n",
    "# Commented out to avoid running on real hardware twice.\n",
    "\n",
    "# job = sampler.run([isa_circuit])"
   ]
  },
  {
   "cell_type": "code",
   "execution_count": null,
   "metadata": {},
   "outputs": [],
   "source": [
    "isa_circuit.draw(style=style, output=\"mpl\")"
   ]
  },
  {
   "cell_type": "code",
   "execution_count": null,
   "metadata": {},
   "outputs": [],
   "source": [
    "job = service.job(\"cs7tfzqtg3bg008zp7n0\")"
   ]
  },
  {
   "cell_type": "code",
   "execution_count": null,
   "metadata": {},
   "outputs": [],
   "source": [
    "print(f\">>> Job ID: {job.job_id()}\")\n",
    "print(f\">>> Job Status: {job.status()}\")"
   ]
  },
  {
   "cell_type": "code",
   "execution_count": null,
   "metadata": {},
   "outputs": [],
   "source": [
    "# Get the result\n",
    "result = job.result()\n",
    "\n",
    "# Get results for the first (and only) PUB\n",
    "pub_result = result[0]\n",
    "\n",
    "# Get the measurement data\n",
    "data = pub_result.data.c\n",
    "print(\"Print all attributes of the data >>> \", dir(data)) # Print all attributes of the data.\n",
    "print(\"-----------------------------------------------------------------\")\n",
    "print(\"-----------------------------------------------------------------\")\n",
    "\n",
    "\n",
    "# Output:\n",
    "['__abstractmethods__', '__and__', '__annotations__', '__class__', '__class_getitem__', \n",
    " '__delattr__', '__dict__', '__dir__', '__doc__', '__eq__', '__format__', '__ge__', \n",
    " '__getattribute__', '__getstate__', '__gt__', '__hash__', '__init__', '__init_subclass__', \n",
    " '__invert__', '__le__', '__lt__', '__module__', '__ne__', '__new__', '__non_callable_proto_members__', \n",
    " '__or__', '__parameters__', '__protocol_attrs__', '__reduce__', '__reduce_ex__', '__repr__', \n",
    " '__setattr__', '__sizeof__', '__slots__', '__str__', '__subclasshook__', '__weakref__', '__xor__', \n",
    " '_abc_impl', '_array', '_bytes_to_bitstring', '_bytes_to_int', '_get_counts', '_is_protocol', \n",
    " '_is_runtime_protocol', '_num_bits', '_prepare_broadcastable', '_shape', 'array', 'bitcount', \n",
    " 'from_bool_array', 'from_counts', 'from_samples', 'get_bitstrings', 'get_counts', 'get_int_counts', \n",
    " 'ndim', 'num_bits', 'num_shots', 'reshape', 'shape', 'size']\n",
    "\n",
    "\n",
    "# In the output, we see that the data object has a method called get_counts().\n",
    "counts = data.get_counts()\n",
    "\n",
    "# Print all attributes of the data\n",
    "print(\"Counts: \", counts)\n",
    "print(\"-----------------------------------------------------------------\")\n",
    "print(\"-----------------------------------------------------------------\")\n",
    "\n",
    "# Plot the results\n",
    "plot_histogram(counts) # This plot will show the results of the circuit execution.\n",
    "\n",
    "# Calculate the total number of shots\n",
    "total_shots = sum(counts.values())\n",
    "print(\"Total Shots in backend >>>\", total_shots)\n",
    "print(\"-----------------------------------------------------------------\")\n",
    "print(\"-----------------------------------------------------------------\")\n",
    "\n",
    "# print(counts.items())\n",
    "\n",
    "# Calculate the probabilities\n",
    "probabilities = {bitstring: count / total_shots for bitstring, count in counts.items()}\n",
    "print(\"Probabilities in every output >>>\", probabilities)\n",
    "\n",
    "# Plot the probabilities like in the previous example\n",
    "plot_histogram(probabilities)"
   ]
  }
 ],
 "metadata": {
  "kernelspec": {
   "display_name": "algorithms",
   "language": "python",
   "name": "python3"
  },
  "language_info": {
   "codemirror_mode": {
    "name": "ipython",
    "version": 3
   },
   "file_extension": ".py",
   "mimetype": "text/x-python",
   "name": "python",
   "nbconvert_exporter": "python",
   "pygments_lexer": "ipython3",
   "version": "3.12.3"
  }
 },
 "nbformat": 4,
 "nbformat_minor": 2
}
