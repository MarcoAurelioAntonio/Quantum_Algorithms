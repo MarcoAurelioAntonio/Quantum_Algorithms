{
 "cells": [
  {
   "cell_type": "markdown",
   "metadata": {},
   "source": [
    "# Shor's Algorithm"
   ]
  },
  {
   "cell_type": "markdown",
   "metadata": {},
   "source": [
    "In modular arithmetic, congruence is represented as follows:\n",
    "\n",
    "$\\ a \\equiv b \\pmod{n} $\n",
    "\n",
    "where:\n",
    "\n",
    "- $\\ a$ and $\\ b$ are integers.\n",
    "- $\\ n $ is the modulus, a positive integer.\n",
    "\n",
    "This means that $\\ a $ and $\\ b $ leave the same remainder when divided by $\\ n $. In other words, $\\ a \\equiv b \\pmod{n} $ if and only if $\\ n $ divides $\\ a - b $.\n",
    "\n",
    "Additionally, $\\ a \\equiv b \\pmod{n} $ is equivalent to $\\ b \\equiv a \\pmod{n} $. Modular congruence is a symmetric relation, meaning that if $\\ a $ is congruent to $\\ b $ modulo $\\ n $, then $\\ b $ is congruent to $\\ a $ modulo $\\ n $. Formally:\n",
    "\n",
    "$\\ a \\equiv b \\pmod{n} \\iff b \\equiv a \\pmod{n} $\n",
    "\n",
    "This is because the definition of modular congruence implies that $\\ a $ and $\\ b $ leave the same remainder when divided by $\\ n $, which is a bidirectional relationship.\n"
   ]
  },
  {
   "cell_type": "markdown",
   "metadata": {},
   "source": [
    "To find the period of numbers represented by $\\  a  $ when $\\  b \\pmod{n} = 13^x \\pmod{15}  $, we need to determine the cyclic behavior of $\\  13^x \\mod 15  $.\n",
    "\n",
    "Let's observe the values of $\\  13^x \\mod 15  $ for different values of $\\  x  $:\n",
    "\n",
    "- $\\  13^0 \\equiv 1 \\pmod{15}  $\n",
    "- $\\  13^1 \\equiv 13 \\pmod{15}  $\n",
    "- $\\  13^2 \\equiv 169 \\equiv 4 \\pmod{15}  $\n",
    "- $\\  13^3 \\equiv 13 \\cdot 4 \\equiv 52 \\equiv 7 \\pmod{15}  $\n",
    "- $\\  13^4 \\equiv 13 \\cdot 7 \\equiv 91 \\equiv 1 \\pmod{15}  $\n",
    "\n",
    "We observe that $\\  13^4 \\equiv 1 \\pmod{15}  $. This indicates that the values of $\\  13^x \\mod 15  $ repeat every 4 powers. Therefore, the period is 4.\n",
    "\n",
    "In summary, the period of the numbers represented by $\\  a  $ when $\\  b \\pmod{n} = 13^x \\pmod{15}  $ is 4.\n"
   ]
  }
 ],
 "metadata": {
  "language_info": {
   "name": "python"
  }
 },
 "nbformat": 4,
 "nbformat_minor": 2
}
